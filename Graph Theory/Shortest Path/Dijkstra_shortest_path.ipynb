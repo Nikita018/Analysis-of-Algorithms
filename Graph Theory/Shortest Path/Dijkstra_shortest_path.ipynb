{
  "nbformat": 4,
  "nbformat_minor": 0,
  "metadata": {
    "colab": {
      "name": "Dijkstra_shortest_path.ipynb",
      "provenance": [],
      "authorship_tag": "ABX9TyNZMtyDvg/t5TUG6bpBw5wc",
      "include_colab_link": true
    },
    "kernelspec": {
      "name": "python3",
      "display_name": "Python 3"
    }
  },
  "cells": [
    {
      "cell_type": "markdown",
      "metadata": {
        "id": "view-in-github",
        "colab_type": "text"
      },
      "source": [
        "<a href=\"https://colab.research.google.com/github/Nikita018/Analysis-of-Algorithms/blob/master/Graph%20Theory/Shortest%20Path/Dijkstra_shortest_path.ipynb\" target=\"_parent\"><img src=\"https://colab.research.google.com/assets/colab-badge.svg\" alt=\"Open In Colab\"/></a>"
      ]
    },
    {
      "cell_type": "code",
      "metadata": {
        "id": "-UQ-sfAF2mxT",
        "colab_type": "code",
        "colab": {}
      },
      "source": [
        "# This notebook is to code up the not very efficient implementation of Dijkstra Shortest Path (not using Heap Data Structure)"
      ],
      "execution_count": 0,
      "outputs": []
    },
    {
      "cell_type": "code",
      "metadata": {
        "id": "vtEkWjxT3VCV",
        "colab_type": "code",
        "colab": {
          "base_uri": "https://localhost:8080/",
          "height": 122
        },
        "outputId": "202d67aa-57bd-4af2-8d1a-9253644e91e1"
      },
      "source": [
        "from google.colab import drive\n",
        "drive.mount('/content/gdrive')"
      ],
      "execution_count": 1,
      "outputs": [
        {
          "output_type": "stream",
          "text": [
            "Go to this URL in a browser: https://accounts.google.com/o/oauth2/auth?client_id=947318989803-6bn6qk8qdgf4n4g3pfee6491hc0brc4i.apps.googleusercontent.com&redirect_uri=urn%3aietf%3awg%3aoauth%3a2.0%3aoob&response_type=code&scope=email%20https%3a%2f%2fwww.googleapis.com%2fauth%2fdocs.test%20https%3a%2f%2fwww.googleapis.com%2fauth%2fdrive%20https%3a%2f%2fwww.googleapis.com%2fauth%2fdrive.photos.readonly%20https%3a%2f%2fwww.googleapis.com%2fauth%2fpeopleapi.readonly\n",
            "\n",
            "Enter your authorization code:\n",
            "··········\n",
            "Mounted at /content/gdrive\n"
          ],
          "name": "stdout"
        }
      ]
    },
    {
      "cell_type": "code",
      "metadata": {
        "id": "0J9uT0jl3Wy-",
        "colab_type": "code",
        "colab": {}
      },
      "source": [
        "filename ='gdrive/My Drive/UBDS_college_work/Winter19/Algorithms/Graph/dijkstraData.txt'\n",
        "# filename ='gdrive/My Drive/UBDS_college_work/Winter19/Algorithms/Graph/input_random_12_16.txt'"
      ],
      "execution_count": 0,
      "outputs": []
    },
    {
      "cell_type": "code",
      "metadata": {
        "id": "V6SnxEJX3tEW",
        "colab_type": "code",
        "colab": {}
      },
      "source": [
        "# creating a representation in dictionary for the entire graph\n",
        "graph={}\n",
        "for f in open(filename):\n",
        "  f=f.replace(\"\\n\",\"\")\n",
        "  f=f[:-1]\n",
        "  x=f.split(\"\\t\")\n",
        "  vertices={}\n",
        "  tail=int(x[0])\n",
        "  for items in range(1,len(x)):\n",
        "    next=x[items].split(',')\n",
        "    vertices[int(next[0])]=int(next[1])\n",
        "  graph[tail]=vertices    "
      ],
      "execution_count": 0,
      "outputs": []
    },
    {
      "cell_type": "code",
      "metadata": {
        "id": "J4e1sic_3vGl",
        "colab_type": "code",
        "colab": {
          "base_uri": "https://localhost:8080/",
          "height": 34
        },
        "outputId": "6bc7dd97-7bbf-4065-b393-83717c1b0ca0"
      },
      "source": [
        "max_pos_dist=0\n",
        "for i in graph.keys():\n",
        "  for j in graph[i].keys():\n",
        "    max_pos_dist=max_pos_dist+graph[i][j]\n",
        "\n",
        "max_pos_dist"
      ],
      "execution_count": 4,
      "outputs": [
        {
          "output_type": "execute_result",
          "data": {
            "text/plain": [
              "18834238"
            ]
          },
          "metadata": {
            "tags": []
          },
          "execution_count": 4
        }
      ]
    },
    {
      "cell_type": "code",
      "metadata": {
        "id": "_1x773wC3yfc",
        "colab_type": "code",
        "colab": {}
      },
      "source": [
        "# this function is to compute the shortest path between 2 vertices in a graph\n",
        "# input graph, source, destination\n",
        "def dijkstra_shortest_path(graph,source,destination):\n",
        "  # iter=0\n",
        "  seen={}\n",
        "  dist={}\n",
        "  dist[source]=0\n",
        "  seen[source]=True \n",
        "  vertices=graph[source]\n",
        "  hop=min(vertices, key=vertices.get)\n",
        "  distance=vertices[hop]\n",
        "  seen[hop]=True\n",
        "  dist[hop]=distance\n",
        "\n",
        "\n",
        "  while hop!=destination:\n",
        "    prospects={}\n",
        "    max_pos_dist=18834238\n",
        "    for items in seen.keys():\n",
        "      for i in graph[items]:\n",
        "        if i not in seen.keys():\n",
        "          initial_dist=dist[items]\n",
        "          final_dist=graph[items][i]\n",
        "          if initial_dist+final_dist<max_pos_dist:\n",
        "            pos_hop=i\n",
        "            pos_dist=initial_dist+final_dist\n",
        "            max_pos_dist=pos_dist\n",
        "        \n",
        "\n",
        "\n",
        "    if pos_hop not in seen.keys():\n",
        "      hop=pos_hop\n",
        "      seen[hop]=True\n",
        "      dist[hop]=pos_dist\n",
        "      # print(hop)\n",
        "    else:\n",
        "      return(1000000)\n",
        "    \n",
        "  return(dist[destination])"
      ],
      "execution_count": 0,
      "outputs": []
    },
    {
      "cell_type": "code",
      "metadata": {
        "id": "iHrRUh-T31ad",
        "colab_type": "code",
        "colab": {}
      },
      "source": [
        "solution=[]\n",
        "source=1\n",
        "for q in [7,37,59,82,99,115,133,165,188,197]:\n",
        "  solution=solution+[dijkstra_shortest_path(graph,source,q)]"
      ],
      "execution_count": 0,
      "outputs": []
    },
    {
      "cell_type": "code",
      "metadata": {
        "id": "i_9L9lG233eP",
        "colab_type": "code",
        "colab": {
          "base_uri": "https://localhost:8080/",
          "height": 34
        },
        "outputId": "a523f714-8a57-45fe-ac15-55096a0854d0"
      },
      "source": [
        "solution"
      ],
      "execution_count": 7,
      "outputs": [
        {
          "output_type": "execute_result",
          "data": {
            "text/plain": [
              "[2599, 2610, 2947, 2052, 2367, 2399, 2029, 2442, 2505, 3068]"
            ]
          },
          "metadata": {
            "tags": []
          },
          "execution_count": 7
        }
      ]
    },
    {
      "cell_type": "code",
      "metadata": {
        "id": "VDjJLoih34_q",
        "colab_type": "code",
        "colab": {}
      },
      "source": [
        ""
      ],
      "execution_count": 0,
      "outputs": []
    }
  ]
}