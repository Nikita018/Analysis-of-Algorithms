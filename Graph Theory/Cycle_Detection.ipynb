{
  "nbformat": 4,
  "nbformat_minor": 0,
  "metadata": {
    "colab": {
      "name": "Cycle_Detection.ipynb",
      "provenance": [],
      "collapsed_sections": [],
      "authorship_tag": "ABX9TyOCO9EVyrqyUZrL9EvbJ8/T",
      "include_colab_link": true
    },
    "kernelspec": {
      "name": "python3",
      "display_name": "Python 3"
    }
  },
  "cells": [
    {
      "cell_type": "markdown",
      "metadata": {
        "id": "view-in-github",
        "colab_type": "text"
      },
      "source": [
        "<a href=\"https://colab.research.google.com/github/Nikita018/Analysis-of-Algorithms/blob/master/Graph%20Theory/Cycle_Detection.ipynb\" target=\"_parent\"><img src=\"https://colab.research.google.com/assets/colab-badge.svg\" alt=\"Open In Colab\"/></a>"
      ]
    },
    {
      "cell_type": "code",
      "metadata": {
        "id": "cz0vMNoSgeSj",
        "colab_type": "code",
        "colab": {}
      },
      "source": [
        "# Determining if there is a cycle in an undirected and directed graph in O(m+n) time complexity.\n",
        "# The approach of finding a cycle for an undirected and directed graph is different\n",
        "# Examples of directed and undirected graph for testing are provided."
      ],
      "execution_count": 0,
      "outputs": []
    },
    {
      "cell_type": "code",
      "metadata": {
        "id": "mSBw4tidRrN4",
        "colab_type": "code",
        "colab": {}
      },
      "source": [
        "# An undirected graph containing a cycle\n",
        "cycle_undir_graph = {\n",
        "    'A': ['B','C'],\n",
        "    'B': ['A','C','D','E'],\n",
        "    'C': ['A','B','F'],\n",
        "    'D': ['B','E'],\n",
        "    'E': ['B','D','F'],\n",
        "    'F': ['C','E','G'],\n",
        "    'G': ['F']\n",
        "}"
      ],
      "execution_count": 0,
      "outputs": []
    },
    {
      "cell_type": "code",
      "metadata": {
        "id": "Jlx85RBXU5g9",
        "colab_type": "code",
        "colab": {}
      },
      "source": [
        "# An undirected graph without a cycle\n",
        "non_cycle_undir_graph = {\n",
        "    'A': ['B','C'],\n",
        "    'B': ['A','D','E'],\n",
        "    'C': ['A','G','F'],\n",
        "    'D': ['B'],\n",
        "    'E': ['B'],\n",
        "    'F': ['C'],\n",
        "    'G': ['C']\n",
        "}"
      ],
      "execution_count": 0,
      "outputs": []
    },
    {
      "cell_type": "code",
      "metadata": {
        "id": "3nVGB2CBSYaA",
        "colab_type": "code",
        "colab": {}
      },
      "source": [
        "# Determining if there is a cycle in a undirected graph in O(m+n) time complexity\n",
        "# Approach : For every visited vertex 's', if there is an adjacent vertex that is already visited and is not a parent of 's' then there is a cycle in the graph\n",
        "# s - start vertex, p : parent\n",
        "def cycle_undirected_graph(graph, s,p, explored):\n",
        "  explored = explored + [s]\n",
        "  for edge in graph[s]:\n",
        "    if edge not in explored:\n",
        "      if(cycle(graph,edge,s, explored)):\n",
        "        return True\n",
        "    elif p != edge:\n",
        "      return True\n",
        "  return False"
      ],
      "execution_count": 0,
      "outputs": []
    },
    {
      "cell_type": "code",
      "metadata": {
        "id": "5-eXif5jTxhD",
        "colab_type": "code",
        "colab": {
          "base_uri": "https://localhost:8080/",
          "height": 33
        },
        "outputId": "52454066-5626-4870-ec83-8d21746e493f"
      },
      "source": [
        "# Testing on an undirected graph containing a cycle\n",
        "result = cycle_undirected_graph(cycle_undir_graph,'A', -1, [])\n",
        "print(result)"
      ],
      "execution_count": 119,
      "outputs": [
        {
          "output_type": "stream",
          "text": [
            "True\n"
          ],
          "name": "stdout"
        }
      ]
    },
    {
      "cell_type": "code",
      "metadata": {
        "id": "NfEwe3y1UNHH",
        "colab_type": "code",
        "colab": {
          "base_uri": "https://localhost:8080/",
          "height": 33
        },
        "outputId": "ab490497-34c1-4b3f-d55a-33663815fd00"
      },
      "source": [
        "# Testing on an undirected graph without a cycle\n",
        "non_cycle_result = cycle_undirected_graph(non_cycle_undir_graph,'A', -1, [])\n",
        "print(non_cycle_result)"
      ],
      "execution_count": 120,
      "outputs": [
        {
          "output_type": "stream",
          "text": [
            "False\n"
          ],
          "name": "stdout"
        }
      ]
    },
    {
      "cell_type": "code",
      "metadata": {
        "id": "8Z2LZU6ddo7J",
        "colab_type": "code",
        "colab": {}
      },
      "source": [
        "# A directed graph containing a cycle\n",
        "cycle_directed_graph = {\n",
        "    '1': ['2'],\n",
        "    '2': ['5'],\n",
        "    '5': ['6'],\n",
        "    '6': ['7'],\n",
        "    '7': ['3'],\n",
        "    '3': ['1'],\n",
        "    '4': ['5'],\n",
        "    '8': ['5','3'],\n",
        "}"
      ],
      "execution_count": 0,
      "outputs": []
    },
    {
      "cell_type": "code",
      "metadata": {
        "id": "UHq54G9uwcwK",
        "colab_type": "code",
        "colab": {}
      },
      "source": [
        "# A directed graph containing a cycle\n",
        "cycle_directed_graph_2 = {\n",
        "    '1': ['3'],\n",
        "    '2': ['1','5'],\n",
        "    '5': ['6'],\n",
        "    '6': ['7'],\n",
        "    '7': ['3'],\n",
        "    '3': ['8'],\n",
        "    '4': ['5'],\n",
        "    '8': ['5']\n",
        "}"
      ],
      "execution_count": 0,
      "outputs": []
    },
    {
      "cell_type": "code",
      "metadata": {
        "id": "t8MF7xcxxKOI",
        "colab_type": "code",
        "colab": {}
      },
      "source": [
        "# Directed Acyclic Graph\n",
        "DAG = {\n",
        "    '1': ['3', '2'],\n",
        "    '2': ['4','5'],\n",
        "    '5': ['7'],\n",
        "    '6': ['5','7'],\n",
        "    '3': ['6'],\n",
        "    '4': ['7'],\n",
        "    '7': [],\n",
        "}"
      ],
      "execution_count": 0,
      "outputs": []
    },
    {
      "cell_type": "code",
      "metadata": {
        "id": "9rT7bombtCZQ",
        "colab_type": "code",
        "colab": {}
      },
      "source": [
        "# Determining if there is a cycle in a directed graph in O(m+n) time complexity\n",
        "\n",
        "def cycle_in_directed_graph(Graph,s,record, explored):\n",
        "  explored[s] = True # explored is a dictionary\n",
        "  record[s] = True #rec is a dict. This will act like a stack removing the vertex with no other edges to explore\n",
        "  for edge in Graph[s]:\n",
        "    #print(\"edge:\", edge)\n",
        "    if edge not in explored:\n",
        "      ans = cycle_dir_raw(Graph,edge,record,explored)# DFS recursion\n",
        "      if (ans):\n",
        "        return True\n",
        "    elif record[edge]==True:# The vertex from s has already been explored and the fact that we can see the same vertex again means there is a cycle exisiting in the graph\n",
        "      return True\n",
        "  #print(\"S getting removed from record : \", s)\n",
        "  record[s] = False # Removing the vertex which has no other edge to be visited which has not been visited already\n",
        "  return False\n",
        "\n",
        "\n",
        "\n",
        "\n",
        "# When backtracking in DFS, we need to pop put from the stack the items which do not have any other vertex to be visited, we are using Record for the same.\n",
        "# Initially we add everything to Record and when there are no more edges from a vertex, while backtracking we remove the vertex from Record."
      ],
      "execution_count": 0,
      "outputs": []
    },
    {
      "cell_type": "code",
      "metadata": {
        "id": "18oCO6tJuxRL",
        "colab_type": "code",
        "colab": {
          "base_uri": "https://localhost:8080/",
          "height": 251
        },
        "outputId": "c08d7efb-fb86-4615-c4e7-ee36b16bf022"
      },
      "source": [
        "res =cycle_in_directed_graph(DAG,'1',{},{})\n",
        "print(\"Answer :\",res)"
      ],
      "execution_count": 136,
      "outputs": [
        {
          "output_type": "stream",
          "text": [
            "edge: 6\n",
            "edge: 5\n",
            "edge: 7\n",
            "S getting removed from record :  7\n",
            "S getting removed from record :  5\n",
            "edge: 7\n",
            "S getting removed from record :  6\n",
            "S getting removed from record :  3\n",
            "edge: 4\n",
            "edge: 7\n",
            "S getting removed from record :  4\n",
            "edge: 5\n",
            "S getting removed from record :  2\n",
            "Answer : False\n"
          ],
          "name": "stdout"
        }
      ]
    },
    {
      "cell_type": "code",
      "metadata": {
        "id": "W0UVHRCYu7X6",
        "colab_type": "code",
        "colab": {}
      },
      "source": [
        ""
      ],
      "execution_count": 0,
      "outputs": []
    }
  ]
}