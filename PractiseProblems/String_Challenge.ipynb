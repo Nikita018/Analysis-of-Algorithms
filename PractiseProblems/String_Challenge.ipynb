{
  "nbformat": 4,
  "nbformat_minor": 0,
  "metadata": {
    "colab": {
      "name": "String Challenge.ipynb",
      "provenance": [],
      "collapsed_sections": []
    },
    "kernelspec": {
      "name": "python3",
      "display_name": "Python 3"
    }
  },
  "cells": [
    {
      "cell_type": "code",
      "metadata": {
        "colab": {
          "base_uri": "https://localhost:8080/"
        },
        "id": "PmE5fzu7uUff",
        "outputId": "dd94d373-204c-490c-e38a-dd5f45fadb31"
      },
      "source": [
        "str2 = 'foursixminustwotwoplusonezero'\r\n",
        "map = {'zero':0, 'one':1, 'two':2, 'three':3, 'four':4, 'five':5, 'six':6, 'seven':7, 'eight':8, 'nine':9, 'minus':'-', 'plus':'+'}\r\n",
        "\r\n",
        "def section(string):\r\n",
        "  if string[s:s+3] in map.keys():\r\n",
        "    return 3, map[string[s:s+3]]\r\n",
        "  elif string[s:s+4] in map.keys():\r\n",
        "    return 4, map[string[s:s+4]]\r\n",
        "  elif string[s:s+5] in map.keys():\r\n",
        "    return 5, map[string[s:s+5]]\r\n",
        "\r\n",
        "def string_challenge(string):\r\n",
        "  items = []\r\n",
        "  idx = 0\r\n",
        "  while(idx<len(string)):\r\n",
        "    idx1, digit = section(string[idx:])\r\n",
        "    idx = idx1+idx\r\n",
        "    items.append(digit)\r\n",
        "  \r\n",
        "  print(items)\r\n",
        "  final = [items[0]]\r\n",
        "  for idx in range(1,len(items)): \r\n",
        "    if(type(items[idx])==int and type(final[-1])==int):\r\n",
        "      final[-1] = final[-1]*10+items[idx]\r\n",
        "    elif(type(items[idx])==int and type(final[-1])==str):\r\n",
        "      final.append(items[idx])\r\n",
        "    elif(type(items[idx])==str and type(final[-1])==int):\r\n",
        "      final.append(items[idx])\r\n",
        "    elif(type(items[idx])==str and type(final[-1])==str):\r\n",
        "      print(\"Incorrect input : cannot pass subsequent plus and minus operations\")\r\n",
        "\r\n",
        "  print(\"final\",final)\r\n",
        "  output = final[0]\r\n",
        "  for idx in range(2,len(final),2):\r\n",
        "    if final[idx-1]=='-':\r\n",
        "      output=output-final[idx]\r\n",
        "    else:\r\n",
        "      output=output+final[idx]\r\n",
        "  return output\r\n",
        "\r\n",
        "string = 'onezeropluseight'\r\n",
        "result = string_challenge(str2)\r\n",
        "result"
      ],
      "execution_count": 182,
      "outputs": [
        {
          "output_type": "stream",
          "text": [
            "[4, 6, '-', 2, 2, '+', 1, 0]\n",
            "final [46, '-', 22, '+', 10]\n"
          ],
          "name": "stdout"
        },
        {
          "output_type": "execute_result",
          "data": {
            "text/plain": [
              "34"
            ]
          },
          "metadata": {
            "tags": []
          },
          "execution_count": 182
        }
      ]
    },
    {
      "cell_type": "markdown",
      "metadata": {
        "id": "tk70vnz1S9Zj"
      },
      "source": [
        "#String Challenge\r\n",
        "\r\n",
        "#Input : \"onezeropluseight\"\r\n",
        "#Output : 18"
      ]
    }
  ]
}