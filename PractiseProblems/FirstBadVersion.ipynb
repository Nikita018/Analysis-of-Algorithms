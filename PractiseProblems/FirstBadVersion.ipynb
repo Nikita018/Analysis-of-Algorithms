{
  "nbformat": 4,
  "nbformat_minor": 0,
  "metadata": {
    "colab": {
      "name": "FirstBadVersion.ipynb",
      "provenance": [],
      "authorship_tag": "ABX9TyNnuH2rvtMgYZxe+ZzR2Emo",
      "include_colab_link": true
    },
    "kernelspec": {
      "name": "python3",
      "display_name": "Python 3"
    }
  },
  "cells": [
    {
      "cell_type": "markdown",
      "metadata": {
        "id": "view-in-github",
        "colab_type": "text"
      },
      "source": [
        "<a href=\"https://colab.research.google.com/github/Nikita018/Analysis-of-Algorithms/blob/master/PractiseProblems/FirstBadVersion.ipynb\" target=\"_parent\"><img src=\"https://colab.research.google.com/assets/colab-badge.svg\" alt=\"Open In Colab\"/></a>"
      ]
    },
    {
      "cell_type": "code",
      "metadata": {
        "id": "Yt18DyJFCG5x",
        "colab_type": "code",
        "colab": {}
      },
      "source": [
        "### You are a product manager and currently leading a team to develop a new product. Unfortunately, the latest version of your product fails the quality check. Since each version is developed based on the previous version, all the versions after a bad version are also bad.\n",
        "\n",
        "### Suppose you have n versions [1, 2, ..., n] and you want to find out the first bad one, which causes all the following ones to be bad.\n",
        "\n",
        "### You are given an API bool isBadVersion(version) which will return whether version is bad. Implement a function to find the first bad version. You should minimize the number of calls to the API."
      ],
      "execution_count": 0,
      "outputs": []
    },
    {
      "cell_type": "code",
      "metadata": {
        "id": "muoHPBzc52iV",
        "colab_type": "code",
        "colab": {}
      },
      "source": [
        "# For an array input with allversion numbers in increasing order\n",
        "# The isBadVersion API is already defined for you.\n",
        "# parameters :  Array containing all version numbers\n",
        "# @return an integer\n",
        "# def isBadVersion(version):\n",
        "def FindBadversion(A):\n",
        "  start = 0\n",
        "  end = len(A) - 1\n",
        "  while(start < end):\n",
        "    mid = start + (end-start)//2\n",
        "    if(isBadversion(A[mid])==True):\n",
        "      end = mid\n",
        "    elif(isBadversion(A[mid])==False):\n",
        "      start = mid + 1\n",
        "      if(start==end and isBadversion(A[start-1])==False and start==len(A)-1 and isBadversion(A[start])==False):\n",
        "        return \"No bad versions\"\n",
        "      elif(start==end):\n",
        "        print(\"Setting\")\n",
        "        mid = start\n",
        "  bad_version = A[mid]\n",
        "  return bad_version  \n",
        "      \n",
        "\n"
      ],
      "execution_count": 0,
      "outputs": []
    },
    {
      "cell_type": "code",
      "metadata": {
        "id": "UB3SmFez7QND",
        "colab_type": "code",
        "colab": {}
      },
      "source": [
        "def isBadversion(n):\n",
        "  if(n>=1):\n",
        "    return True\n",
        "  else:\n",
        "    return False"
      ],
      "execution_count": 0,
      "outputs": []
    },
    {
      "cell_type": "code",
      "metadata": {
        "id": "Gcn6gcvO7YVI",
        "colab_type": "code",
        "colab": {
          "base_uri": "https://localhost:8080/",
          "height": 34
        },
        "outputId": "f90d0705-becc-437d-b375-0c78f59ed62b"
      },
      "source": [
        "A = [1,2,3,4,5]\n",
        "version = FindBadversion(A)\n",
        "print(\"First bad version : \", version)"
      ],
      "execution_count": 114,
      "outputs": [
        {
          "output_type": "stream",
          "text": [
            "First bad version :  1\n"
          ],
          "name": "stdout"
        }
      ]
    },
    {
      "cell_type": "code",
      "metadata": {
        "id": "XcHAkiDl7hPg",
        "colab_type": "code",
        "colab": {}
      },
      "source": [
        "# For a final version number input\n",
        "# The isBadVersion API is already defined for you.\n",
        "# parameters :  version, an integer\n",
        "# @return an integer\n",
        "# def isBadVersion(version):\n",
        "class Solution:\n",
        "    def firstBadVersion(self, n):\n",
        "        \"\"\"\n",
        "        :type n: int\n",
        "        :rtype: int\n",
        "        \"\"\"\n",
        "        start = 1\n",
        "        end = n\n",
        "        mid = 0\n",
        "        while(start <= end):\n",
        "            mid = start + (end-start)//2\n",
        "            if(isBadVersion(mid)==True):\n",
        "                end = mid\n",
        "            if(start==end):\n",
        "                return start\n",
        "            elif(isBadVersion(mid)==False):\n",
        "                start = mid + 1\n",
        "            if(start==end and isBadVersion(start-1)==False and start==n and isBadVersion(start)==False):\n",
        "                return \"No bad versions\"\n",
        "            elif(start==end):\n",
        "                return start\n",
        "        bad_version = mid\n",
        "        return bad_version \n",
        "\n",
        "def isBadversion(n):\n",
        "  if(n>=1):\n",
        "    return True\n",
        "  else:\n",
        "    return False\n",
        "      "
      ],
      "execution_count": 0,
      "outputs": []
    },
    {
      "cell_type": "code",
      "metadata": {
        "id": "aBzwoIAmMY-A",
        "colab_type": "code",
        "colab": {
          "base_uri": "https://localhost:8080/",
          "height": 85
        },
        "outputId": "19ebfb2c-a46e-4344-c5e6-601574335aeb"
      },
      "source": [
        "n = 1\n",
        "version = FindBadversion(n)\n",
        "print(\"First bad version : \", version)"
      ],
      "execution_count": 24,
      "outputs": [
        {
          "output_type": "stream",
          "text": [
            "start 1\n",
            "end 1\n",
            "mid 1\n",
            "First bad version :  1\n"
          ],
          "name": "stdout"
        }
      ]
    },
    {
      "cell_type": "code",
      "metadata": {
        "id": "SV0_YWvVMb9B",
        "colab_type": "code",
        "colab": {}
      },
      "source": [
        ""
      ],
      "execution_count": 0,
      "outputs": []
    }
  ]
}