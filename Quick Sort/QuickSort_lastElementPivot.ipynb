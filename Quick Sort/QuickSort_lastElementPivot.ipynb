{
 "cells": [
  {
   "cell_type": "code",
   "execution_count": 6,
   "metadata": {
    "colab": {},
    "colab_type": "code",
    "id": "WwbONJPSxcmi"
   },
   "outputs": [],
   "source": [
    "def Partition(A,l,r,p):\n",
    "  A[r-1],A[l] = A[l], A[r-1]\n",
    "  i = l+1\n",
    "  for j in range(l+1,r):\n",
    "    if(A[j]<p):\n",
    "      A[j], A[i] = A[i], A[j]\n",
    "      i+=1\n",
    "  A[i-1], A[l] = A[l],A[i-1]\n",
    "  return i "
   ]
  },
  {
   "cell_type": "code",
   "execution_count": 7,
   "metadata": {
    "colab": {},
    "colab_type": "code",
    "id": "0RY5SIdcy_YD"
   },
   "outputs": [],
   "source": [
    "# Chosing the Last element as pivot\n",
    "\n",
    "def quickSort(A,low, high):\n",
    "  count = 0\n",
    "  if high-low <= 0:\n",
    "    return count\n",
    "  else:\n",
    "    count = high-low-1\n",
    "    p=A[high-1]\n",
    "    P_ind = Partition(A,low,high,p)\n",
    "    lc = quickSort(A, low, P_ind - 1)\n",
    "    rc = quickSort(A, P_ind, high)\n",
    "    return count+lc+rc"
   ]
  },
  {
   "cell_type": "code",
   "execution_count": 8,
   "metadata": {
    "colab": {
     "base_uri": "https://localhost:8080/",
     "height": 52
    },
    "colab_type": "code",
    "id": "AGL7N7_JUF-S",
    "outputId": "ed783e5e-4113-4134-dac4-f9763f8e5020"
   },
   "outputs": [
    {
     "name": "stdout",
     "output_type": "stream",
     "text": [
      "Sorted array is:\n",
      "15\n"
     ]
    }
   ],
   "source": [
    "A = [3,8,2,5,1,4,7,6]\n",
    "count = quickSort(A,0,len(A))\n",
    "print (\"Sorted array is:\") \n",
    "print(count)"
   ]
  },
  {
   "cell_type": "code",
   "execution_count": 9,
   "metadata": {
    "colab": {
     "base_uri": "https://localhost:8080/",
     "height": 274
    },
    "colab_type": "code",
    "id": "sPW94tx_UhmC",
    "outputId": "7b8b6428-c2ec-437a-f7aa-3ca919c4c229"
   },
   "outputs": [
    {
     "name": "stdout",
     "output_type": "stream",
     "text": [
      "\n",
      "\n",
      "Coding Challenge Data : \n",
      "164123\n"
     ]
    }
   ],
   "source": [
    "print(\"\\n\\nCoding Challenge Data : \")\n",
    "arr = []\n",
    "data_file = open(\"Data.txt\")\n",
    "with data_file as f:\n",
    "    for row in data_file:\n",
    "            arr.append(int(row))\n",
    "count= quickSort(arr, 0, len(arr))\n",
    "print(count)                       \n",
    "# Ans : 164123"
   ]
  },
  {
   "cell_type": "code",
   "execution_count": 0,
   "metadata": {
    "colab": {},
    "colab_type": "code",
    "id": "yUNhqecKUuM1"
   },
   "outputs": [],
   "source": []
  }
 ],
 "metadata": {
  "colab": {
   "name": "QuickSort.ipynb",
   "provenance": []
  },
  "kernelspec": {
   "display_name": "Python 3",
   "language": "python",
   "name": "python3"
  },
  "language_info": {
   "codemirror_mode": {
    "name": "ipython",
    "version": 3
   },
   "file_extension": ".py",
   "mimetype": "text/x-python",
   "name": "python",
   "nbconvert_exporter": "python",
   "pygments_lexer": "ipython3",
   "version": "3.7.3"
  }
 },
 "nbformat": 4,
 "nbformat_minor": 1
}
