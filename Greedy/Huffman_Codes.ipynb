{
  "nbformat": 4,
  "nbformat_minor": 0,
  "metadata": {
    "colab": {
      "name": "Huffman Codes.ipynb",
      "provenance": [],
      "authorship_tag": "ABX9TyO5NZvLuZfAG8bgEx7miH4B",
      "include_colab_link": true
    },
    "kernelspec": {
      "name": "python3",
      "display_name": "Python 3"
    }
  },
  "cells": [
    {
      "cell_type": "markdown",
      "metadata": {
        "id": "view-in-github",
        "colab_type": "text"
      },
      "source": [
        "<a href=\"https://colab.research.google.com/github/Nikita018/Analysis-of-Algorithms/blob/master/Greedy/Huffman_Codes.ipynb\" target=\"_parent\"><img src=\"https://colab.research.google.com/assets/colab-badge.svg\" alt=\"Open In Colab\"/></a>"
      ]
    },
    {
      "cell_type": "code",
      "metadata": {
        "id": "EqGllgGPoWCf",
        "colab_type": "code",
        "colab": {
          "base_uri": "https://localhost:8080/",
          "height": 121
        },
        "outputId": "a38c7090-2932-4482-a596-b4110e886706"
      },
      "source": [
        "from google.colab import drive\n",
        "drive.mount('/content/gdrive')"
      ],
      "execution_count": 1,
      "outputs": [
        {
          "output_type": "stream",
          "text": [
            "Go to this URL in a browser: https://accounts.google.com/o/oauth2/auth?client_id=947318989803-6bn6qk8qdgf4n4g3pfee6491hc0brc4i.apps.googleusercontent.com&redirect_uri=urn%3aietf%3awg%3aoauth%3a2.0%3aoob&response_type=code&scope=email%20https%3a%2f%2fwww.googleapis.com%2fauth%2fdocs.test%20https%3a%2f%2fwww.googleapis.com%2fauth%2fdrive%20https%3a%2f%2fwww.googleapis.com%2fauth%2fdrive.photos.readonly%20https%3a%2f%2fwww.googleapis.com%2fauth%2fpeopleapi.readonly\n",
            "\n",
            "Enter your authorization code:\n",
            "··········\n",
            "Mounted at /content/gdrive\n"
          ],
          "name": "stdout"
        }
      ]
    },
    {
      "cell_type": "code",
      "metadata": {
        "id": "oX0X-ckZofsE",
        "colab_type": "code",
        "colab": {}
      },
      "source": [
        "filename ='gdrive/My Drive/UBDS_college_work/Winter19/Algorithms/Greedy/huffman.txt'"
      ],
      "execution_count": 0,
      "outputs": []
    },
    {
      "cell_type": "code",
      "metadata": {
        "id": "HT5VQpOuo1_H",
        "colab_type": "code",
        "colab": {}
      },
      "source": [
        "from heapq import heappop, heappush, heapify\n",
        "\n",
        "class Node(object):\n",
        "    def __init__(self, left_node=None, right_node=None, weight=None):\n",
        "        self.left_node = left_node\n",
        "        self.right_node = right_node\n",
        "        self.weight = 0\n",
        "        self.weight = weight or left_node.weight + right_node.weight\n",
        "\n",
        "    def __lt__(self, other):\n",
        "        return self.weight < other.weight\n",
        "\n",
        "    def __repr__(self):\n",
        "        return str(self.weight)\n",
        "\n",
        "if __name__ == '__main__':\n",
        "    filename ='gdrive/My Drive/UBDS_college_work/Winter19/Algorithms/Greedy/huffman.txt'\n",
        "    with open(filename, 'r') as f:\n",
        "        lines = f.readlines()\n",
        "        n_symbols = int(lines[0])\n",
        "        print(f'{n_symbols} symbols')\n",
        "        weights = [int(line) for line in lines[1:11]]\n",
        "\n",
        "        # create leaf-nodes from the weights\n",
        "        nodes = [Node(None, None, weight) for weight in weights]\n",
        "        assert len(nodes) == n_symbols, 'something went wrong'\n",
        "\n",
        "        # construct binary tree by merging the two nodes with the least weight\n",
        "        while len(nodes) > 1:\n",
        "            heapify(nodes)\n",
        "            heappush(nodes, Node(heappop(nodes), heappop(nodes)))\n",
        "\n",
        "        def get_depth(node, minmax):\n",
        "            if node.left_node:\n",
        "                depth_left = 1 + get_depth(node.left_node, minmax)\n",
        "            else:\n",
        "                depth_left = 0\n",
        "            if node.right_node:\n",
        "                depth_right = 1 + get_depth(node.right_node, minmax)\n",
        "            else:\n",
        "                depth_right = 0\n",
        "\n",
        "            return minmax(depth_left, depth_right)\n",
        "\n",
        "\n",
        "        max_depth = get_depth(nodes[0], max)\n",
        "        min_depth = get_depth(nodes[0], min)\n",
        "        print('min. depth', min_depth)  # 9\n",
        "        print('max. depth', max_depth)  # 19"
      ],
      "execution_count": 0,
      "outputs": []
    }
  ]
}