{
  "nbformat": 4,
  "nbformat_minor": 0,
  "metadata": {
    "colab": {
      "name": "farthest_in_Future_Greedy.ipynb",
      "provenance": [],
      "authorship_tag": "ABX9TyP3PId4YJZrFseAAb1Tcl7s",
      "include_colab_link": true
    },
    "kernelspec": {
      "name": "python3",
      "display_name": "Python 3"
    }
  },
  "cells": [
    {
      "cell_type": "markdown",
      "metadata": {
        "id": "view-in-github",
        "colab_type": "text"
      },
      "source": [
        "<a href=\"https://colab.research.google.com/github/Nikita018/Analysis-of-Algorithms/blob/master/Greedy/farthest_in_Future_Greedy.ipynb\" target=\"_parent\"><img src=\"https://colab.research.google.com/assets/colab-badge.svg\" alt=\"Open In Colab\"/></a>"
      ]
    },
    {
      "cell_type": "code",
      "metadata": {
        "id": "uRsYZfCXh4_d",
        "colab_type": "code",
        "colab": {
          "base_uri": "https://localhost:8080/",
          "height": 34
        },
        "outputId": "90f708cc-db2a-441a-f7f6-f996541520d9"
      },
      "source": [
        "request = ['c','b','c','a','a','b']\n",
        "cache = {'a': 1,'b': 1}\n",
        "len(cache)"
      ],
      "execution_count": 24,
      "outputs": [
        {
          "output_type": "execute_result",
          "data": {
            "text/plain": [
              "2"
            ]
          },
          "metadata": {
            "tags": []
          },
          "execution_count": 24
        }
      ]
    },
    {
      "cell_type": "code",
      "metadata": {
        "id": "AVrD3buuih-Z",
        "colab_type": "code",
        "colab": {}
      },
      "source": [
        "def furthest_in_future(cache,request):\n",
        "  k = len(cache)\n",
        "  n = len(request)\n",
        "  for i in range(n):\n",
        "    if(request[i] in cache):\n",
        "      print(\"Cache hit\")\n",
        "    else:\n",
        "      print(\"Cache miss\")\n",
        "      if(len(cache)!=k):\n",
        "        cache.append(request(i))\n",
        "      else:\n",
        "        dist_furthest = 0\n",
        "        for j in cache.keys():\n",
        "          p = i+1\n",
        "          while(p!=n and request[p]!=j):\n",
        "            p=p+1\n",
        "          if(p==n):\n",
        "            dist_j = float('inf')\n",
        "            furthest = j\n",
        "            break\n",
        "          else:\n",
        "            dist_j = p - i\n",
        "          if dist_j > dist_furthest:\n",
        "            furthest = j\n",
        "            dist_furthest = dist_j\n",
        "      cache.pop(furthest)\n",
        "      cache[request[i]]=  1\n",
        "      print(cache)\n",
        "  return cache\n",
        "     \n"
      ],
      "execution_count": 0,
      "outputs": []
    },
    {
      "cell_type": "code",
      "metadata": {
        "id": "CRIa-5suiygt",
        "colab_type": "code",
        "colab": {
          "base_uri": "https://localhost:8080/",
          "height": 168
        },
        "outputId": "d90c7192-7f29-4ff6-b0c0-5d6ad074a1b3"
      },
      "source": [
        "furthest_in_future(cache,request)"
      ],
      "execution_count": 35,
      "outputs": [
        {
          "output_type": "stream",
          "text": [
            "Cache miss\n",
            "{'b': 1, 'c': 1}\n",
            "Cache hit\n",
            "Cache hit\n",
            "Cache miss\n",
            "{'b': 1, 'a': 1}\n",
            "Cache hit\n",
            "Cache hit\n"
          ],
          "name": "stdout"
        },
        {
          "output_type": "execute_result",
          "data": {
            "text/plain": [
              "{'a': 1, 'b': 1}"
            ]
          },
          "metadata": {
            "tags": []
          },
          "execution_count": 35
        }
      ]
    },
    {
      "cell_type": "code",
      "metadata": {
        "id": "w2I77ybKi25m",
        "colab_type": "code",
        "colab": {}
      },
      "source": [
        "# Running Time of Algorithm\n",
        "## Outer Loop = n\n",
        "## Inner Loop = k\n",
        "## Innermost Loop = (n-1)time\n",
        "\n",
        "### Overall Running Time = kn^2\n"
      ],
      "execution_count": 0,
      "outputs": []
    },
    {
      "cell_type": "code",
      "metadata": {
        "id": "KqK6OsBo2hnO",
        "colab_type": "code",
        "colab": {
          "base_uri": "https://localhost:8080/",
          "height": 67
        },
        "outputId": "55baec44-49b9-434d-fa70-5701a320bc9c"
      },
      "source": [
        "# Experiments with Min Heap\n",
        "import heapq\n",
        "\n",
        "items = [5,7,8,2,4,81,20,90]\n",
        "\n",
        "heapq.heapify(items)\n",
        "# Print created heap\n",
        "print(list(items))\n",
        "\n",
        "heapq.heappush(items, 5)\n",
        "print(list(items))\n",
        "\n",
        "heapq.heappop(items)\n",
        "print(list(items))"
      ],
      "execution_count": 44,
      "outputs": [
        {
          "output_type": "stream",
          "text": [
            "[2, 4, 8, 7, 5, 81, 20, 90]\n",
            "[2, 4, 8, 5, 5, 81, 20, 90, 7]\n",
            "[4, 5, 8, 5, 7, 81, 20, 90]\n"
          ],
          "name": "stdout"
        }
      ]
    },
    {
      "cell_type": "code",
      "metadata": {
        "id": "Buqw8XGu5agb",
        "colab_type": "code",
        "colab": {
          "base_uri": "https://localhost:8080/",
          "height": 84
        },
        "outputId": "aabbc81b-91a3-463e-e829-2ce352fa967a"
      },
      "source": [
        "# Experiments with Max Heap\n",
        "import heapq\n",
        "\n",
        "\n",
        "parts = [5,7,8,2,4,81,20,90]\n",
        "items = [-i for i in parts] #Adding items to heap in negative to fetch the maximum item from list\n",
        "print(parts)\n",
        "\n",
        "heapq.heapify(items)\n",
        "# Print created heap\n",
        "print(list(items))\n",
        "\n",
        "heapq.heappush(items, 5)\n",
        "print(list(items))\n",
        "\n",
        "heapq.heappop(items)\n",
        "print(list(items))"
      ],
      "execution_count": 47,
      "outputs": [
        {
          "output_type": "stream",
          "text": [
            "[5, 7, 8, 2, 4, 81, 20, 90]\n",
            "[-90, -7, -81, -5, -4, -8, -20, -2]\n",
            "[-90, -7, -81, -5, -4, -8, -20, -2, 5]\n",
            "[-81, -7, -20, -5, -4, -8, 5, -2]\n"
          ],
          "name": "stdout"
        }
      ]
    },
    {
      "cell_type": "code",
      "metadata": {
        "id": "4gj0_HoY24mG",
        "colab_type": "code",
        "colab": {}
      },
      "source": [
        "# Using Heap to fetch the fathest in future requested item from the current items in the cache\n",
        "\n",
        "def furthest_in_future(cache,request,book_keeping):\n",
        "  k = len(cache)\n",
        "  n = len(request)\n",
        "  for req in request.keys():\n",
        "    print(\"cache :\",cache)\n",
        "    print(\"request\",req)\n",
        "    if(req in cache):\n",
        "      print(\"Cache hit\")\n",
        "    else:\n",
        "      print(\"Cache miss\")\n",
        "      if(len(cache)!=k):\n",
        "        cache.append(request(i))\n",
        "      else:\n",
        "        dist_furthest = 0\n",
        "        candidates = []\n",
        "        for key in cache.keys():\n",
        "          candidates = candidates + request[key]\n",
        "        items = [-i for i in candidates]\n",
        "        heapq.heapify(items)\n",
        "        popped_item = heapq.heappop(items)\n",
        "        popped_item = str(-popped_item)\n",
        "        print(\"popping :\",book_keeping[popped_item])\n",
        "        cache.pop(book_keeping[popped_item])\n",
        "        cache[req]=  1\n",
        "        print(\"new cache :\",cache)\n",
        "  return cache\n",
        "     "
      ],
      "execution_count": 0,
      "outputs": []
    },
    {
      "cell_type": "code",
      "metadata": {
        "id": "j04iZOca8nZJ",
        "colab_type": "code",
        "colab": {
          "base_uri": "https://localhost:8080/",
          "height": 286
        },
        "outputId": "bc5d0451-2f94-43ae-97d2-7092149e51f6"
      },
      "source": [
        "request = {'c': [1,3],'b':[2,6],'a':[4,5]}\n",
        "cache = {'a': 1,'b': 1}\n",
        "book_keeping = {'1':'c','2':'b','3':'c','4':'a','5':'a','6':'b'}\n",
        "furthest_in_future(cache,request,book_keeping)"
      ],
      "execution_count": 80,
      "outputs": [
        {
          "output_type": "stream",
          "text": [
            "cache : {'a': 1, 'b': 1}\n",
            "request c\n",
            "Cache miss\n",
            "popping : b\n",
            "new cache : {'a': 1, 'c': 1}\n",
            "cache : {'a': 1, 'c': 1}\n",
            "request b\n",
            "Cache miss\n",
            "popping : a\n",
            "new cache : {'c': 1, 'b': 1}\n",
            "cache : {'c': 1, 'b': 1}\n",
            "request a\n",
            "Cache miss\n",
            "popping : b\n",
            "new cache : {'c': 1, 'a': 1}\n"
          ],
          "name": "stdout"
        },
        {
          "output_type": "execute_result",
          "data": {
            "text/plain": [
              "{'a': 1, 'c': 1}"
            ]
          },
          "metadata": {
            "tags": []
          },
          "execution_count": 80
        }
      ]
    },
    {
      "cell_type": "code",
      "metadata": {
        "id": "899Yy-2K8KFg",
        "colab_type": "code",
        "colab": {
          "base_uri": "https://localhost:8080/",
          "height": 67
        },
        "outputId": "538deb18-54fb-4346-c70c-59064d767382"
      },
      "source": [
        "candidates = []\n",
        "print(\"cache :\",cache)\n",
        "for key in cache.keys():\n",
        "  candidates = candidates + request[key]\n",
        "items = [-i for i in candidates]\n",
        "heapq.heapify(items)\n",
        "popped_item = heapq.heappop(items)\n",
        "popped_item = str(-popped_item)\n",
        "print(book_keeping[popped_item])\n",
        "cache.pop(book_keeping[popped_item])\n",
        "print(\"new cache :\",cache)"
      ],
      "execution_count": 67,
      "outputs": [
        {
          "output_type": "stream",
          "text": [
            "cache : {'a': 1, 'b': 1}\n",
            "b\n",
            "new cache : {'a': 1}\n"
          ],
          "name": "stdout"
        }
      ]
    },
    {
      "cell_type": "code",
      "metadata": {
        "id": "5ldkV3BJ89mb",
        "colab_type": "code",
        "colab": {}
      },
      "source": [
        ""
      ],
      "execution_count": 0,
      "outputs": []
    }
  ]
}