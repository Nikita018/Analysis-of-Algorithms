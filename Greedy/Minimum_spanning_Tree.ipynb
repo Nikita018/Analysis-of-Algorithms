{
  "nbformat": 4,
  "nbformat_minor": 0,
  "metadata": {
    "colab": {
      "name": "Minimum_spanning_Tree.ipynb",
      "provenance": [],
      "collapsed_sections": [],
      "authorship_tag": "ABX9TyNYJYxwLn47j4+nzR+gfNEh",
      "include_colab_link": true
    },
    "kernelspec": {
      "name": "python3",
      "display_name": "Python 3"
    },
    "accelerator": "GPU"
  },
  "cells": [
    {
      "cell_type": "markdown",
      "metadata": {
        "id": "view-in-github",
        "colab_type": "text"
      },
      "source": [
        "<a href=\"https://colab.research.google.com/github/Nikita018/Analysis-of-Algorithms/blob/master/Greedy/Minimum_spanning_Tree.ipynb\" target=\"_parent\"><img src=\"https://colab.research.google.com/assets/colab-badge.svg\" alt=\"Open In Colab\"/></a>"
      ]
    },
    {
      "cell_type": "code",
      "metadata": {
        "id": "9Yu3pL80ai-k",
        "colab_type": "code",
        "outputId": "f6b2215d-9130-4179-d8de-599cd13d2549",
        "colab": {
          "base_uri": "https://localhost:8080/",
          "height": 122
        }
      },
      "source": [
        "# Implimentation of Prim's Minimum spanning Tree algorithm using Heap\n",
        "from google.colab import drive\n",
        "drive.mount('/content/gdrive')"
      ],
      "execution_count": 1,
      "outputs": [
        {
          "output_type": "stream",
          "text": [
            "Go to this URL in a browser: https://accounts.google.com/o/oauth2/auth?client_id=947318989803-6bn6qk8qdgf4n4g3pfee6491hc0brc4i.apps.googleusercontent.com&redirect_uri=urn%3aietf%3awg%3aoauth%3a2.0%3aoob&response_type=code&scope=email%20https%3a%2f%2fwww.googleapis.com%2fauth%2fdocs.test%20https%3a%2f%2fwww.googleapis.com%2fauth%2fdrive%20https%3a%2f%2fwww.googleapis.com%2fauth%2fdrive.photos.readonly%20https%3a%2f%2fwww.googleapis.com%2fauth%2fpeopleapi.readonly\n",
            "\n",
            "Enter your authorization code:\n",
            "··········\n",
            "Mounted at /content/gdrive\n"
          ],
          "name": "stdout"
        }
      ]
    },
    {
      "cell_type": "code",
      "metadata": {
        "id": "PczXt2CCaqXT",
        "colab_type": "code",
        "colab": {}
      },
      "source": [
        "filename ='gdrive/My Drive/UBDS_college_work/Winter19/Algorithms/Greedy/MST_data.txt'"
      ],
      "execution_count": 0,
      "outputs": []
    },
    {
      "cell_type": "code",
      "metadata": {
        "id": "KuPsANIESmiM",
        "colab_type": "code",
        "colab": {
          "base_uri": "https://localhost:8080/",
          "height": 34
        },
        "outputId": "6c9cf267-e11d-4c79-e162-d650ced25a86"
      },
      "source": [
        "edges = [list(map(int, x.split(' '))) for x in open(filename, 'r').read().split('\\n')[1:-1]]\n",
        "vertices = set()\n",
        "for edge in edges:\n",
        "    vertices.add(edge[0])\n",
        "    vertices.add(edge[1])\n",
        "spanned = set()\n",
        "spanned.add(vertices.pop())\n",
        "\n",
        "total_cost = 0\n",
        "while len(vertices)>0:\n",
        "    best_cost = 9999999\n",
        "    for edge in edges:\n",
        "        if edge[0] in spanned and edge[1] in vertices and edge[2]<best_cost:\n",
        "            best_cost = edge[2]\n",
        "            best_vert = edge[1]\n",
        "        if edge[1] in spanned and edge[0] in vertices and edge[2]<best_cost:\n",
        "            best_cost = edge[2]\n",
        "            best_vert = edge[0]\n",
        "    spanned.add(best_vert)\n",
        "    vertices.remove(best_vert)\n",
        "    total_cost+=best_cost\n",
        "\n",
        "#    print vertices\n",
        "#    print best_cost\n",
        "#    print best_vert\n",
        "#    print spanned\n",
        "#    print total_cost\n",
        "print(total_cost)"
      ],
      "execution_count": 86,
      "outputs": [
        {
          "output_type": "stream",
          "text": [
            "-3612829\n"
          ],
          "name": "stdout"
        }
      ]
    },
    {
      "cell_type": "code",
      "metadata": {
        "id": "oYDVp_dgoIeV",
        "colab_type": "code",
        "colab": {}
      },
      "source": [
        "# creating a representation in dictionary for the entire graph\n",
        "graph={} # outer dictionary \n",
        "# start reading file from second line\n",
        "for f in open(filename, 'r').read().split('\\n')[1:-1]:\n",
        "  l = f.split(' ')\n",
        "  # inner dictionary\n",
        "  key = int(l[0])\n",
        "  if key in graph.keys():\n",
        "    graph[key][int(l[1])]=int(l[2]) #when key is present in graph\n",
        "  else:\n",
        "    graph[key]={}\n",
        "    graph[key][int(l[1])]=int(l[2])\n"
      ],
      "execution_count": 0,
      "outputs": []
    },
    {
      "cell_type": "code",
      "metadata": {
        "id": "mpebbO41d3Uf",
        "colab_type": "code",
        "colab": {}
      },
      "source": [
        "from collections import defaultdict\n",
        "import heapq\n",
        "\n",
        "# passing dictionary representation of graph\n",
        "def create_spanning_tree(graph, starting_vertex):\n",
        "    total_cost = 0\n",
        "    mst = defaultdict(set)\n",
        "    visited = set([starting_vertex])\n",
        "    edges = [\n",
        "        (cost, starting_vertex, to)\n",
        "        for to, cost in graph[starting_vertex].items()\n",
        "    ]\n",
        "    heapq.heapify(edges)\n",
        "\n",
        "    while edges:\n",
        "        cost, frm, to = heapq.heappop(edges)\n",
        "        if to not in visited:\n",
        "            visited.add(to)\n",
        "            mst[frm].add(to)\n",
        "            total_cost+=cost\n",
        "            if to not in graph:\n",
        "              break\n",
        "            for to_next, cost in graph[to].items():\n",
        "                if to_next not in visited:\n",
        "                    heapq.heappush(edges, (cost, to, to_next))\n",
        "\n",
        "    return mst,total_cost"
      ],
      "execution_count": 0,
      "outputs": []
    },
    {
      "cell_type": "code",
      "metadata": {
        "id": "7dsBUgv_eLgE",
        "colab_type": "code",
        "colab": {}
      },
      "source": [
        "mst, total_cost = create_spanning_tree(graph, 1)"
      ],
      "execution_count": 0,
      "outputs": []
    },
    {
      "cell_type": "code",
      "metadata": {
        "id": "QzAIMFdJlu0u",
        "colab_type": "code",
        "outputId": "5e0978b8-3480-4db8-b282-f344ad056f80",
        "colab": {
          "base_uri": "https://localhost:8080/",
          "height": 34
        }
      },
      "source": [
        "# Result is incorrect as do not know what to do with last key - 500\n",
        "total_cost"
      ],
      "execution_count": 89,
      "outputs": [
        {
          "output_type": "execute_result",
          "data": {
            "text/plain": [
              "-354933"
            ]
          },
          "metadata": {
            "tags": []
          },
          "execution_count": 89
        }
      ]
    }
  ]
}