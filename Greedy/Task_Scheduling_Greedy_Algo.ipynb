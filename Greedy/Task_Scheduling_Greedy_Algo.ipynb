{
  "nbformat": 4,
  "nbformat_minor": 0,
  "metadata": {
    "colab": {
      "name": "Task_Scheduling_Greedy_Algo.ipynb",
      "provenance": [],
      "authorship_tag": "ABX9TyNMsK83KyRrcpnZ03ItTQjU",
      "include_colab_link": true
    },
    "kernelspec": {
      "name": "python3",
      "display_name": "Python 3"
    }
  },
  "cells": [
    {
      "cell_type": "markdown",
      "metadata": {
        "id": "view-in-github",
        "colab_type": "text"
      },
      "source": [
        "<a href=\"https://colab.research.google.com/github/Nikita018/Analysis-of-Algorithms/blob/master/Greedy/Task_Scheduling_Greedy_Algo.ipynb\" target=\"_parent\"><img src=\"https://colab.research.google.com/assets/colab-badge.svg\" alt=\"Open In Colab\"/></a>"
      ]
    },
    {
      "cell_type": "code",
      "metadata": {
        "id": "VntUPZ7py37x",
        "colab_type": "code",
        "outputId": "13479dea-cc33-411c-af53-bc3145286813",
        "colab": {
          "base_uri": "https://localhost:8080/",
          "height": 122
        }
      },
      "source": [
        "from google.colab import drive\n",
        "drive.mount('/content/gdrive')"
      ],
      "execution_count": 2,
      "outputs": [
        {
          "output_type": "stream",
          "text": [
            "Go to this URL in a browser: https://accounts.google.com/o/oauth2/auth?client_id=947318989803-6bn6qk8qdgf4n4g3pfee6491hc0brc4i.apps.googleusercontent.com&redirect_uri=urn%3aietf%3awg%3aoauth%3a2.0%3aoob&response_type=code&scope=email%20https%3a%2f%2fwww.googleapis.com%2fauth%2fdocs.test%20https%3a%2f%2fwww.googleapis.com%2fauth%2fdrive%20https%3a%2f%2fwww.googleapis.com%2fauth%2fdrive.photos.readonly%20https%3a%2f%2fwww.googleapis.com%2fauth%2fpeopleapi.readonly\n",
            "\n",
            "Enter your authorization code:\n",
            "··········\n",
            "Mounted at /content/gdrive\n"
          ],
          "name": "stdout"
        }
      ]
    },
    {
      "cell_type": "code",
      "metadata": {
        "id": "FQ_rzcE_y8AR",
        "colab_type": "code",
        "colab": {}
      },
      "source": [
        "filename ='gdrive/My Drive/UBDS_college_work/Winter19/Algorithms/Greedy/greedy_data.txt'"
      ],
      "execution_count": 0,
      "outputs": []
    },
    {
      "cell_type": "code",
      "metadata": {
        "id": "F3niYAwvNKLM",
        "colab_type": "code",
        "colab": {
          "base_uri": "https://localhost:8080/",
          "height": 34
        },
        "outputId": "21044841-6481-45d5-9471-077dd9de997b"
      },
      "source": [
        "#The task is to run the greedy algorithm that schedules jobs in \n",
        "#decreasing order of the difference (weight - length)\n",
        "jobsFile = open(filename,'r')\n",
        "lines = jobsFile.readlines()[1:]\n",
        "\n",
        "jobs = []\n",
        "length,weight = 0,0\n",
        "\n",
        "for line in lines:\n",
        "    weight = int(line.split()[0])\n",
        "    length = int(line.split()[1])\n",
        "    jobs.append([weight,length,weight - length])\n",
        "\n",
        "jobs = sorted(jobs,key = lambda x:(x[2],x[0]))\n",
        "jobs = jobs[-1::-1]#inverse, decreasing order\n",
        "sumTime = 0\n",
        "sumLength = 0 \n",
        "for job in jobs:\n",
        "    sumLength += job[1]\n",
        "    sumTime += job[0] * sumLength\n",
        "print(sumTime)"
      ],
      "execution_count": 6,
      "outputs": [
        {
          "output_type": "stream",
          "text": [
            "69119377652\n"
          ],
          "name": "stdout"
        }
      ]
    },
    {
      "cell_type": "code",
      "metadata": {
        "id": "s_zCFiMxNtc9",
        "colab_type": "code",
        "colab": {
          "base_uri": "https://localhost:8080/",
          "height": 34
        },
        "outputId": "b2a2fed7-bb90-4518-f6bb-5726c5606f7d"
      },
      "source": [
        "#The task is to run the greedy algorithm that schedules jobs in \n",
        "#decreasing order of the difference (weight / length)\n",
        "jobsFile = open(filename,'r')\n",
        "lines = jobsFile.readlines()[1:]\n",
        "\n",
        "jobs = []\n",
        "length,weight = 0,0\n",
        "for line in lines:\n",
        "    weight = int(line.split()[0])\n",
        "    length = int(line.split()[1])\n",
        "    jobs.append([weight,length,float(weight) / float(length)])\n",
        "\n",
        "jobs = sorted(jobs,key = lambda x:x[2])\n",
        "jobs = jobs[-1::-1]\n",
        "sumTime = 0\n",
        "sumLength = 0 \n",
        "for job in jobs:\n",
        "    sumLength += job[1]\n",
        "    sumTime += job[0] * sumLength\n",
        "print(sumTime)"
      ],
      "execution_count": 5,
      "outputs": [
        {
          "output_type": "stream",
          "text": [
            "67311454237\n"
          ],
          "name": "stdout"
        }
      ]
    }
  ]
}