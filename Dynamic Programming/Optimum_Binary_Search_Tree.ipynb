{
  "nbformat": 4,
  "nbformat_minor": 0,
  "metadata": {
    "colab": {
      "name": "Optimum Binary Search Tree.ipynb",
      "provenance": [],
      "authorship_tag": "ABX9TyOywEhE7RIHe3cfwZQLAU6D",
      "include_colab_link": true
    },
    "kernelspec": {
      "name": "python3",
      "display_name": "Python 3"
    }
  },
  "cells": [
    {
      "cell_type": "markdown",
      "metadata": {
        "id": "view-in-github",
        "colab_type": "text"
      },
      "source": [
        "<a href=\"https://colab.research.google.com/github/Nikita018/Analysis-of-Algorithms/blob/master/Dynamic%20Programming/Optimum_Binary_Search_Tree.ipynb\" target=\"_parent\"><img src=\"https://colab.research.google.com/assets/colab-badge.svg\" alt=\"Open In Colab\"/></a>"
      ]
    },
    {
      "cell_type": "code",
      "metadata": {
        "id": "DlSqKg17UfDt",
        "colab_type": "code",
        "colab": {}
      },
      "source": [
        "def sum_freq(freq, i, j): \n",
        "  \n",
        "    s = 0\n",
        "    for k in range(i, j + 1): \n",
        "        s += freq[k]  \n",
        "    return s  "
      ],
      "execution_count": 0,
      "outputs": []
    },
    {
      "cell_type": "code",
      "metadata": {
        "id": "J-wCNKSwFKBp",
        "colab_type": "code",
        "colab": {
          "base_uri": "https://localhost:8080/",
          "height": 34
        },
        "outputId": "79b3d163-c785-4022-d8a8-4a798a50e3f7"
      },
      "source": [
        "import math\n",
        "def optimalBinarySearchTree(keys, freq):\n",
        "  #Create an auxiliary 2D matrix to store results of subproblems\n",
        "  n = len(keys)\n",
        "  cost = [[0 for x in range(n)] for y in range(n)]\n",
        "\n",
        "  #For a single key, cost is equal to frequency of the key\n",
        "  for i in range (0,n):\n",
        "      cost[i][i] = freq[i]\n",
        "\n",
        "  # Now we need to consider chains of length 2, 3, ... .\n",
        "  # L is chain length.\n",
        "  for L in range (2,n+1):\n",
        "      for i in range(0,n-L+1):\n",
        "          j = i + L - 1\n",
        "          cost[i][j] = math.inf\n",
        "          for k in range (i,j+1):\n",
        "              c = (cost[i][k-1] if k > i else 0)\n",
        "              c += (cost[k+1][j] if k < j else 0)\n",
        "              c += sum_freq(freq,i,j)\n",
        "              if (c < cost[i][j]):\n",
        "                  cost[i][j] = c\n",
        "  return cost[0][n-1]\n",
        "\n",
        "# keys = [10,12,20]\n",
        "# freq = [34,8,50]\n",
        "keys = [10,12,16,21]\n",
        "freq = [4,2,6,3]\n",
        "\n",
        "print(\"Optimum binary search tree cost is : \",optimalBinarySearchTree(keys, freq))\n"
      ],
      "execution_count": 129,
      "outputs": [
        {
          "output_type": "stream",
          "text": [
            "Optimum binary search tree cost is :  26\n"
          ],
          "name": "stdout"
        }
      ]
    }
  ]
}