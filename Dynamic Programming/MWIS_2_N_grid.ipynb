{
  "nbformat": 4,
  "nbformat_minor": 0,
  "metadata": {
    "colab": {
      "name": "MWIS_2*N_grid.ipynb",
      "provenance": [],
      "collapsed_sections": [],
      "authorship_tag": "ABX9TyOD5jHzKIDdKTDRcMO36qeI",
      "include_colab_link": true
    },
    "kernelspec": {
      "name": "python3",
      "display_name": "Python 3"
    }
  },
  "cells": [
    {
      "cell_type": "markdown",
      "metadata": {
        "id": "view-in-github",
        "colab_type": "text"
      },
      "source": [
        "<a href=\"https://colab.research.google.com/github/Nikita018/Analysis-of-Algorithms/blob/master/Dynamic%20Programming/MWIS_2_N_grid.ipynb\" target=\"_parent\"><img src=\"https://colab.research.google.com/assets/colab-badge.svg\" alt=\"Open In Colab\"/></a>"
      ]
    },
    {
      "cell_type": "code",
      "metadata": {
        "id": "Y14QthLNLY2d",
        "colab_type": "code",
        "colab": {}
      },
      "source": [
        "'''\n",
        "This problem asks for the maximum weighted independent\n",
        "set in a 2 * n size grid. \n",
        "Two different vertices\n",
        "(r; c) and (r0; c0) in V are adjacent in G if and only if |r - r0| + |c - c0| = 1. For every\n",
        "vertex (r; c) 2 V , we are given the weight wr;c \u0015 0 of the vertex. The goal of the problem\n",
        "is to \fnd an independent set of G with the maximum total weight. (Recall that S belongs to V\n",
        "is an independent set if there are no edges between any two vertices in S.) \n",
        "\n",
        "Design an O(n)-time dynamic programming algorithm to solve the problem. For\n",
        "simplicity, you only need to output the weight of the maximum weighted independent\n",
        "set, not the actual set.\n",
        "'''"
      ],
      "execution_count": 0,
      "outputs": []
    },
    {
      "cell_type": "code",
      "metadata": {
        "id": "4kmOyCxtBdg5",
        "colab_type": "code",
        "colab": {
          "base_uri": "https://localhost:8080/",
          "height": 67
        },
        "outputId": "a61e6970-fe87-4330-c1a1-d45e3f7bc7d7"
      },
      "source": [
        "import numpy as np\n",
        "G =np.array([[40,100,90,0,90,30],[50,80,20,10,130,10]])\n",
        "print(G)\n",
        "print(G.shape)"
      ],
      "execution_count": 10,
      "outputs": [
        {
          "output_type": "stream",
          "text": [
            "[[ 40 100  90   0  90  30]\n",
            " [ 50  80  20  10 130  10]]\n",
            "(2, 6)\n"
          ],
          "name": "stdout"
        }
      ]
    },
    {
      "cell_type": "code",
      "metadata": {
        "id": "4oLFwrIEBnnV",
        "colab_type": "code",
        "colab": {
          "base_uri": "https://localhost:8080/",
          "height": 34
        },
        "outputId": "93e5b51e-33b1-4e87-f879-a128e3cc3b89"
      },
      "source": [
        "def MWIS(G):\n",
        "  c = G.shape[1]\n",
        "  opt = np.zeros(shape=(3, c))\n",
        "  opt[0,0] = G[0,0]\n",
        "  opt[1,0] = G[1,0]\n",
        "  opt[2,0] = max(opt[0,0],opt[1,0] )\n",
        "\n",
        "  for j in range(1,6):\n",
        "    for i in range(0,3):\n",
        "      if(i==0 and j==1):\n",
        "        opt[i,j] = opt[i+1, j-1] + G[i,j]\n",
        "      elif(i==1 and j==1):\n",
        "        opt[i,j] = opt[i-1, j-1] + G[i,j]\n",
        "      elif(i==0):\n",
        "        opt[i,j] = max(opt[i+1, j-1] + G[i,j], opt[i+2,j-2] + G[i,j])\n",
        "      elif(i==1):\n",
        "        opt[i,j] = max(opt[i-1, j-1] + G[i,j], opt[i+1,j-2] + G[i,j])\n",
        "      else:\n",
        "        opt[i,j] = max(opt[i-2, j], opt[i-1,j])\n",
        "\n",
        "\n",
        "  return opt[i,j]\n",
        "\n",
        "\n",
        "\n",
        "opt = MWIS(G)\n",
        "print(opt)"
      ],
      "execution_count": 45,
      "outputs": [
        {
          "output_type": "stream",
          "text": [
            "370.0\n"
          ],
          "name": "stdout"
        }
      ]
    },
    {
      "cell_type": "code",
      "metadata": {
        "id": "Rq8-t6aiCQqw",
        "colab_type": "code",
        "colab": {}
      },
      "source": [
        ""
      ],
      "execution_count": 0,
      "outputs": []
    }
  ]
}