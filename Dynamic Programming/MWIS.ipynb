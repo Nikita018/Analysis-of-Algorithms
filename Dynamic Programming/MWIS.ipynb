{
  "nbformat": 4,
  "nbformat_minor": 0,
  "metadata": {
    "colab": {
      "name": "MWIS.ipynb",
      "provenance": [],
      "collapsed_sections": [],
      "authorship_tag": "ABX9TyPhMV47VmK/36dv74iA0Byn",
      "include_colab_link": true
    },
    "kernelspec": {
      "name": "python3",
      "display_name": "Python 3"
    }
  },
  "cells": [
    {
      "cell_type": "markdown",
      "metadata": {
        "id": "view-in-github",
        "colab_type": "text"
      },
      "source": [
        "<a href=\"https://colab.research.google.com/github/Nikita018/Analysis-of-Algorithms/blob/master/Dynamic%20Programming/MWIS.ipynb\" target=\"_parent\"><img src=\"https://colab.research.google.com/assets/colab-badge.svg\" alt=\"Open In Colab\"/></a>"
      ]
    },
    {
      "cell_type": "code",
      "metadata": {
        "id": "bdPmYGcR0oBx",
        "colab_type": "code",
        "colab": {}
      },
      "source": [
        "\"\"\" In this programming problem you'll code up the dynamic programming algorithm for computing a maximum-weight independent set of a path graph.\n",
        "\n",
        "Download the text file below.\n",
        "\n",
        "mwis.txt\n",
        "This file describes the weights of the vertices in a path graph (with the weights listed in the order in which vertices appear in the path). It has the following format:\n",
        "\n",
        "[number_of_vertices]\n",
        "\n",
        "[weight of first vertex]\n",
        "\n",
        "[weight of second vertex]\n",
        "\n",
        "...\n",
        "\n",
        "For example, the third line of the file is \"6395702,\" indicating that the weight of the second vertex of the graph is 6395702.\n",
        "\n",
        "Your task in this problem is to run the dynamic programming algorithm (and the reconstruction procedure) from lecture on this data set. The question is: of the vertices 1, 2, 3, 4, 17, 117, 517, and 997, which ones belong to the maximum-weight independent set? (By \"vertex 1\" we mean the first vertex of the graph---there is no vertex 0.) In the box below, enter a 8-bit string, where the ith bit should be 1 if the ith of these 8 vertices is in the maximum-weight independent set, and 0 otherwise. For example, if you think that the vertices 1, 4, 17, and 517 are in the maximum-weight independent set and the other four vertices are not, then you should enter the string 10011010 in the box below.\"\"\""
      ],
      "execution_count": 0,
      "outputs": []
    },
    {
      "cell_type": "code",
      "metadata": {
        "id": "e-iPLyssq-yw",
        "colab_type": "code",
        "colab": {
          "base_uri": "https://localhost:8080/",
          "height": 121
        },
        "outputId": "551ccd93-2ce3-49d5-c1f3-a5eff9e19d7d"
      },
      "source": [
        "from google.colab import drive\n",
        "drive.mount('/content/gdrive')"
      ],
      "execution_count": 1,
      "outputs": [
        {
          "output_type": "stream",
          "text": [
            "Go to this URL in a browser: https://accounts.google.com/o/oauth2/auth?client_id=947318989803-6bn6qk8qdgf4n4g3pfee6491hc0brc4i.apps.googleusercontent.com&redirect_uri=urn%3aietf%3awg%3aoauth%3a2.0%3aoob&response_type=code&scope=email%20https%3a%2f%2fwww.googleapis.com%2fauth%2fdocs.test%20https%3a%2f%2fwww.googleapis.com%2fauth%2fdrive%20https%3a%2f%2fwww.googleapis.com%2fauth%2fdrive.photos.readonly%20https%3a%2f%2fwww.googleapis.com%2fauth%2fpeopleapi.readonly\n",
            "\n",
            "Enter your authorization code:\n",
            "··········\n",
            "Mounted at /content/gdrive\n"
          ],
          "name": "stdout"
        }
      ]
    },
    {
      "cell_type": "code",
      "metadata": {
        "id": "wxO9M7v7rBvs",
        "colab_type": "code",
        "colab": {}
      },
      "source": [
        "filename ='gdrive/My Drive/UBDS_college_work/Winter19/Algorithms/Dynamic/mwis.txt'"
      ],
      "execution_count": 0,
      "outputs": []
    },
    {
      "cell_type": "code",
      "metadata": {
        "id": "1U7WpkE_rLZb",
        "colab_type": "code",
        "colab": {}
      },
      "source": [
        "# input: file\n",
        "# output: array in which ith entry is the max weight of a subset with length i of the path graph\n",
        "def mwis(filename):\n",
        "  with open(filename, 'r') as f:\n",
        "    lines = f.readlines()\n",
        "    n_weights = int(lines[0])\n",
        "    print(f'{n_weights} weights')\n",
        "    weights = [int(line) for line in lines[1:]]\n",
        "    \n",
        "    # Memoize\n",
        "    A = []\n",
        "    A.append(0)\n",
        "    A.append(weights[1])\n",
        "    for i in range(2,n_weights+1):\n",
        "      A.append(max(A[i-1], A[i-2]+weights[i-1]))\n",
        "      j = n_weights\n",
        "    S = list()\n",
        "    while 1 <= j:\n",
        "        if A[j - 1] == A[j]:  # case 1: current (last) node excluded\n",
        "            j -= 1  # skips current vertex\n",
        "        else:  # case 2: current node included\n",
        "            S = [j] + S\n",
        "            j -= 2\n",
        "    return S"
      ],
      "execution_count": 0,
      "outputs": []
    },
    {
      "cell_type": "code",
      "metadata": {
        "id": "vpEEt6U_riyZ",
        "colab_type": "code",
        "colab": {}
      },
      "source": [
        "def gen_bin_string_whether_vertices_in_mwis(vertices, total_set):\n",
        "  bin_s = ''\n",
        "  for v in vertices:\n",
        "    if v in total_set:\n",
        "      bin_s = bin_s + '1'\n",
        "    else:\n",
        "      bin_s = bin_s + '0'\n",
        "  return bin_s\n"
      ],
      "execution_count": 0,
      "outputs": []
    },
    {
      "cell_type": "code",
      "metadata": {
        "id": "Orh4pEH2zgsc",
        "colab_type": "code",
        "colab": {
          "base_uri": "https://localhost:8080/",
          "height": 34
        },
        "outputId": "baca9bdf-9e2f-4c2d-c1c9-adeb909355ba"
      },
      "source": [
        "vertices = [2,4,6,8]\n",
        "total_set = [1,2,3,5,7,8,9]\n",
        "gen_bin_string_whether_vertices_in_mwis(vertices, total_set)"
      ],
      "execution_count": 32,
      "outputs": [
        {
          "output_type": "execute_result",
          "data": {
            "text/plain": [
              "'1001'"
            ]
          },
          "metadata": {
            "tags": []
          },
          "execution_count": 32
        }
      ]
    },
    {
      "cell_type": "code",
      "metadata": {
        "id": "YUWwjFNTsoc1",
        "colab_type": "code",
        "colab": {
          "base_uri": "https://localhost:8080/",
          "height": 50
        },
        "outputId": "69d669ac-0ab3-425b-ba0f-b78eb3812d30"
      },
      "source": [
        "total_set = mwis(filename)\n",
        "vertices = [1, 2, 3, 4, 17, 117, 517, 997]\n",
        "gen_bin_string_whether_vertices_in_mwis(vertices, total_set)"
      ],
      "execution_count": 33,
      "outputs": [
        {
          "output_type": "stream",
          "text": [
            "1000 weights\n"
          ],
          "name": "stdout"
        },
        {
          "output_type": "execute_result",
          "data": {
            "text/plain": [
              "'10100110'"
            ]
          },
          "metadata": {
            "tags": []
          },
          "execution_count": 33
        }
      ]
    }
  ]
}