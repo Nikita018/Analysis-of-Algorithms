{
  "nbformat": 4,
  "nbformat_minor": 0,
  "metadata": {
    "colab": {
      "name": "Knapsack.ipynb",
      "provenance": [],
      "collapsed_sections": [],
      "authorship_tag": "ABX9TyPozxT7fZUAr3qsCvzrUY9o",
      "include_colab_link": true
    },
    "kernelspec": {
      "name": "python3",
      "display_name": "Python 3"
    },
    "accelerator": "GPU"
  },
  "cells": [
    {
      "cell_type": "markdown",
      "metadata": {
        "id": "view-in-github",
        "colab_type": "text"
      },
      "source": [
        "<a href=\"https://colab.research.google.com/github/Nikita018/Analysis-of-Algorithms/blob/master/Dynamic%20Programming/Knapsack.ipynb\" target=\"_parent\"><img src=\"https://colab.research.google.com/assets/colab-badge.svg\" alt=\"Open In Colab\"/></a>"
      ]
    },
    {
      "cell_type": "code",
      "metadata": {
        "id": "MWZiFQOV4jan",
        "colab_type": "code",
        "colab": {}
      },
      "source": [
        "\"\"\"\n",
        "In this programming problem and the next you'll code up the knapsack algorithm from lecture.\n",
        "\n",
        "Let's start with a warm-up. Download the text file below.\n",
        "\n",
        "knapsack1.txt\n",
        "This file describes a knapsack instance, and it has the following format:\n",
        "\n",
        "[knapsack_size][number_of_items]\n",
        "\n",
        "[value_1] [weight_1]\n",
        "\n",
        "[value_2] [weight_2]\n",
        "\n",
        "...\n",
        "\n",
        "For example, the third line of the file is \"50074 659\", indicating that the second item has value 50074 and size 659, respectively.\n",
        "\n",
        "You can assume that all numbers are positive. You should assume that item weights and the knapsack capacity are integers.\n",
        "\n",
        "In the box below, type in the value of the optimal solution.\n",
        "\"\"\""
      ],
      "execution_count": 0,
      "outputs": []
    },
    {
      "cell_type": "code",
      "metadata": {
        "id": "6dgJJMQGAfDa",
        "colab_type": "code",
        "colab": {
          "base_uri": "https://localhost:8080/",
          "height": 121
        },
        "outputId": "9cf744d6-fdef-4aef-db2e-1aa6d66b86c8"
      },
      "source": [
        "from google.colab import drive\n",
        "drive.mount('/content/gdrive')"
      ],
      "execution_count": 1,
      "outputs": [
        {
          "output_type": "stream",
          "text": [
            "Go to this URL in a browser: https://accounts.google.com/o/oauth2/auth?client_id=947318989803-6bn6qk8qdgf4n4g3pfee6491hc0brc4i.apps.googleusercontent.com&redirect_uri=urn%3aietf%3awg%3aoauth%3a2.0%3aoob&response_type=code&scope=email%20https%3a%2f%2fwww.googleapis.com%2fauth%2fdocs.test%20https%3a%2f%2fwww.googleapis.com%2fauth%2fdrive%20https%3a%2f%2fwww.googleapis.com%2fauth%2fdrive.photos.readonly%20https%3a%2f%2fwww.googleapis.com%2fauth%2fpeopleapi.readonly\n",
            "\n",
            "Enter your authorization code:\n",
            "··········\n",
            "Mounted at /content/gdrive\n"
          ],
          "name": "stdout"
        }
      ]
    },
    {
      "cell_type": "code",
      "metadata": {
        "id": "ysGnz5l_BZUz",
        "colab_type": "code",
        "colab": {}
      },
      "source": [
        "filename ='gdrive/My Drive/UBDS_college_work/Winter19/Algorithms/Dynamic/knapsack1.txt'"
      ],
      "execution_count": 0,
      "outputs": []
    },
    {
      "cell_type": "code",
      "metadata": {
        "id": "4i67BVyQD-9E",
        "colab_type": "code",
        "colab": {}
      },
      "source": [
        "def knapsack(filename):\n",
        "  lines = [list(map(int, x.split(' '))) for x in open(filename, 'r').read().split('\\n')[:-1]]\n",
        "\n",
        "  capacity = lines[0][0]\n",
        "  items = lines[1:]\n",
        "\n",
        "  table = []\n",
        "  table.append([0 for cap in range(capacity + 1)])\n",
        "\n",
        "  for i, item in enumerate(items):\n",
        "      sub = []\n",
        "      for cap in range(capacity + 1):\n",
        "          sub.append(max(table[i][cap], table[i][cap - item[1]] + item[0] if cap - item[1] >= 0 else 0))\n",
        "      table.append(sub)\n",
        "\n",
        "  print(table[-1][-1])"
      ],
      "execution_count": 0,
      "outputs": []
    },
    {
      "cell_type": "code",
      "metadata": {
        "id": "DawglQx53MGA",
        "colab_type": "code",
        "colab": {
          "base_uri": "https://localhost:8080/",
          "height": 34
        },
        "outputId": "a42d0c07-45b8-4d74-9c97-a78dbcc3f9b1"
      },
      "source": [
        "knapsack(filename)"
      ],
      "execution_count": 59,
      "outputs": [
        {
          "output_type": "stream",
          "text": [
            "2493893\n"
          ],
          "name": "stdout"
        }
      ]
    },
    {
      "cell_type": "code",
      "metadata": {
        "id": "qbKePe863_7h",
        "colab_type": "code",
        "colab": {}
      },
      "source": [
        ""
      ],
      "execution_count": 0,
      "outputs": []
    }
  ]
}