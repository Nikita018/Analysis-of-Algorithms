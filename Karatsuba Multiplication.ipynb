{
 "cells": [
  {
   "cell_type": "markdown",
   "metadata": {},
   "source": [
    "## Karatsuba Miltiplication"
   ]
  },
  {
   "cell_type": "code",
   "execution_count": 89,
   "metadata": {},
   "outputs": [],
   "source": [
    "# For even length x and y\n",
    "def Karatsuba(x,y):\n",
    "    if(len(str(x))== 1 or len(str(y))== 1):\n",
    "        size = len(str(x))\n",
    "        n= int(size/2)\n",
    "        print(n)\n",
    "        a = int(x / 10**(n))\n",
    "        b = int(x % 10**(n))\n",
    "        c = int(y / 10**(n))\n",
    "        d = int(y % 10**(n))\n",
    "        print(\"a : \",a)\n",
    "        print(\"b : \",b)\n",
    "        print(\"c : \",c)\n",
    "        print(\"d : \",d)\n",
    "        ac = Karatsuba(a,c)\n",
    "        print(\"ac : \",ac)\n",
    "        bd = Karatsuba(b,d)\n",
    "        print(\"bd : \",bd)\n",
    "        ad_plus_bc = Karatsuba(a+b,c+d) - ac - bd\n",
    "        print(\"ad_plus_bc : \",ad_plus_bc)\n",
    "        val_1 = (10**n)*ac\n",
    "        print(\"val_1 : \",val_1)\n",
    "        val_2 = (10**(n/2))*ad_plus_bc\n",
    "        print(\"val_2 : \",val_2)\n",
    "        val_3 = bd\n",
    "        print(\"val_3 : \",val_3)\n",
    "        final_val = val_1 + val_2 +val_3\n",
    "        print(\"final : \",final_val)\n",
    "    else:\n",
    "        final_val = x*y\n",
    "    return final_val"
   ]
  },
  {
   "cell_type": "code",
   "execution_count": 90,
   "metadata": {},
   "outputs": [],
   "source": [
    "a = Karatsuba(5678,1234)\n"
   ]
  },
  {
   "cell_type": "code",
   "execution_count": 91,
   "metadata": {},
   "outputs": [
    {
     "data": {
      "text/plain": [
       "7006652"
      ]
     },
     "execution_count": 91,
     "metadata": {},
     "output_type": "execute_result"
    }
   ],
   "source": [
    "a"
   ]
  },
  {
   "cell_type": "code",
   "execution_count": 94,
   "metadata": {},
   "outputs": [],
   "source": [
    "x = 3141592653589793238462643383279502884197169399375105820974944592\n",
    "y = 2718281828459045235360287471352662497757247093699959574966967627\n",
    "large_num = Karatsuba(x,y)"
   ]
  },
  {
   "cell_type": "code",
   "execution_count": 95,
   "metadata": {},
   "outputs": [
    {
     "data": {
      "text/plain": [
       "0"
      ]
     },
     "execution_count": 95,
     "metadata": {},
     "output_type": "execute_result"
    }
   ],
   "source": [
    "large_num"
   ]
  },
  {
   "cell_type": "code",
   "execution_count": 97,
   "metadata": {},
   "outputs": [
    {
     "name": "stdout",
     "output_type": "stream",
     "text": [
      "8539734222673567065463550869546574495034888535765114961879601127067743044893204848617875072216249073013374895871952806582723184\n"
     ]
    }
   ],
   "source": [
    "answer = Karatsuba(x,y)\n",
    "print(answer)"
   ]
  },
  {
   "cell_type": "code",
   "execution_count": null,
   "metadata": {},
   "outputs": [],
   "source": []
  }
 ],
 "metadata": {
  "kernelspec": {
   "display_name": "Python 3",
   "language": "python",
   "name": "python3"
  },
  "language_info": {
   "codemirror_mode": {
    "name": "ipython",
    "version": 3
   },
   "file_extension": ".py",
   "mimetype": "text/x-python",
   "name": "python",
   "nbconvert_exporter": "python",
   "pygments_lexer": "ipython3",
   "version": "3.7.3"
  }
 },
 "nbformat": 4,
 "nbformat_minor": 2
}
